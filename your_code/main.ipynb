{
 "cells": [
  {
   "cell_type": "markdown",
   "metadata": {},
   "source": [
    "## Question 1\n",
    "The following table indicates the number of 6-point scores in an American rugby match in the 1979 season.\n",
    "\n",
    "![](table1.png)\n",
    "\n",
    "Based on these results, we create a Poisson distribution with the sample mean parameter  = 2.435. Is there any reason to believe that at a .05 level the number of scores is a Poisson variable?"
   ]
  },
  {
   "cell_type": "code",
   "execution_count": 4,
   "metadata": {},
   "outputs": [
    {
     "name": "stdout",
     "output_type": "stream",
     "text": [
      "Power_divergenceResult(statistic=5.526588649191276, pvalue=0.5959787428784398)\n"
     ]
    },
    {
     "data": {
      "text/plain": [
       "'Yes we should believe that these number of scores is a Poisson variable'"
      ]
     },
     "execution_count": 4,
     "metadata": {},
     "output_type": "execute_result"
    }
   ],
   "source": [
    "# your answer here\n",
    "import numpy as np\n",
    "from scipy.stats import poisson\n",
    "import scipy.stats as st\n",
    "observed = [35, 99, 104, 110, 62, 25, 10, 3]\n",
    "mu=2.435\n",
    "poisson_dist = poisson(mu)\n",
    "poisson_pmfs = np.array([poisson_dist.pmf(i)*448 for i in range(0,8)])\n",
    "print(st.chisquare(observed, poisson_pmfs))\n",
    "\n",
    "'''Yes we should believe that these number of scores is a Poisson variable'''"
   ]
  },
  {
   "cell_type": "markdown",
   "metadata": {},
   "source": [
    "## BONUS/OPTIONAL - Question 2\n",
    "Let's analyze a discrete distribution. To analyze the number of defective items in a factory in the city of Medellín, we took a random sample of n = 60 articles and observed the number of defectives in the following table:\n",
    "\n",
    "![](table2.png)\n",
    "\n",
    "A poissón distribution was proposed since it is defined for x = 0,1,2,3, .... using the following model:\n",
    "\n",
    "![](image1.png)\n",
    "\n",
    "For some extra insights check the following link: https://online.stat.psu.edu/stat504/node/63/ \n",
    "\n",
    "Does the distribution of defective items follow this distribution?"
   ]
  },
  {
   "cell_type": "code",
   "execution_count": 5,
   "metadata": {},
   "outputs": [],
   "source": [
    "# your code here"
   ]
  },
  {
   "cell_type": "markdown",
   "metadata": {},
   "source": [
    "## Question 3\n",
    "A quality control engineer takes a sample of 10 tires that come out of an assembly line, and would like to verify on the basis of the data that follows, if the number of tires with defects observed over 200 days, if it is true that 5% of all tires have defects (that is, if the sample comes from a binomial population with n = 10 and p = 0.05). \n",
    "\n",
    "![](table3.png)\n"
   ]
  },
  {
   "cell_type": "code",
   "execution_count": 6,
   "metadata": {},
   "outputs": [
    {
     "name": "stdout",
     "output_type": "stream",
     "text": [
      "Power_divergenceResult(statistic=6.730152995610064, pvalue=0.034559372300758)\n"
     ]
    },
    {
     "data": {
      "text/plain": [
       "\"The sample does't come from a binomial population with n = 10 and p = 0.05\""
      ]
     },
     "execution_count": 6,
     "metadata": {},
     "output_type": "execute_result"
    }
   ],
   "source": [
    "# your answer here\n",
    "from scipy.stats import binom\n",
    "n = 10\n",
    "p = 0.05\n",
    "binomial_dist = binom(n,p)\n",
    "binomial_pmf = np.array([binomial_dist.pmf(i)*200 for i in range(3)])\n",
    "observed = np.array([138, 53, 9])\n",
    "print(st.chisquare(observed, binomial_pmf))\n",
    "\n",
    "'''The sample does't come from a binomial population with n = 10 and p = 0.05'''"
   ]
  },
  {
   "cell_type": "markdown",
   "metadata": {},
   "source": [
    "## Question 4\n",
    "A researcher gathers information about the patterns of Physical Activity of children in the fifth grade of primary school of a public school. He defines three categories of physical activity (Low, Medium, High). He also inquires about the regular consumption of sugary drinks at school, and defines two categories (Yes = consumed, No = not consumed). We would like to evaluate if there is an association between patterns of physical activity and the consumption of sugary drinks for the children of this school, at a level of 5% significance. The results are in the following table: \n",
    "\n",
    "![](table4.png)"
   ]
  },
  {
   "cell_type": "code",
   "execution_count": 9,
   "metadata": {},
   "outputs": [
    {
     "name": "stdout",
     "output_type": "stream",
     "text": [
      "(10.712198008709638, 0.004719280137040844, 2, array([[24.08421053, 19.91578947],\n",
      "       [19.70526316, 16.29473684],\n",
      "       [ 8.21052632,  6.78947368]]))\n"
     ]
    },
    {
     "data": {
      "text/plain": [
       "'There is not an association between patterns of physical activity and the consumption of sugary drinks.'"
      ]
     },
     "execution_count": 9,
     "metadata": {},
     "output_type": "execute_result"
    }
   ],
   "source": [
    "#your answer here\n",
    "sugary_table=[[32,12],\n",
    "            [14,22],\n",
    "            [6,9]]\n",
    "print(st.chi2_contingency(np.array(sugary_table)))\n",
    "\n",
    "'''There is not an association between patterns of physical activity and the consumption of sugary drinks.'''"
   ]
  },
  {
   "cell_type": "code",
   "execution_count": null,
   "metadata": {},
   "outputs": [],
   "source": []
  }
 ],
 "metadata": {
  "kernelspec": {
   "display_name": "Python 3",
   "language": "python",
   "name": "python3"
  },
  "language_info": {
   "codemirror_mode": {
    "name": "ipython",
    "version": 3
   },
   "file_extension": ".py",
   "mimetype": "text/x-python",
   "name": "python",
   "nbconvert_exporter": "python",
   "pygments_lexer": "ipython3",
   "version": "3.8.3"
  }
 },
 "nbformat": 4,
 "nbformat_minor": 2
}
